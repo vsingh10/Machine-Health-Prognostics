{
  "nbformat": 4,
  "nbformat_minor": 0,
  "metadata": {
    "colab": {
      "provenance": [],
      "gpuType": "T4"
    },
    "kernelspec": {
      "name": "python3",
      "display_name": "Python 3"
    },
    "language_info": {
      "name": "python"
    },
    "accelerator": "GPU"
  },
  "cells": [
    {
      "cell_type": "code",
      "source": [
        "import numpy as np\n",
        "import tensorflow as tf\n",
        "def evaluate_preds(y_true, y_pred):\n",
        "  # Make sure float32 (for metric calculations)\n",
        "  y_true = tf.cast(y_true, dtype=tf.float32)\n",
        "  y_pred = tf.cast(y_pred, dtype=tf.float32)\n",
        "\n",
        "  # Calculate various metrics\n",
        "  mae = tf.keras.metrics.mean_absolute_error(y_true, y_pred)\n",
        "  mse = tf.keras.metrics.mean_squared_error(y_true, y_pred) # puts and emphasis on outliers (all errors get squared)\n",
        "  rmse = tf.sqrt(mse)\n",
        "  mape = tf.keras.metrics.mean_absolute_percentage_error(y_true, y_pred)\n",
        "  #mase = mean_absolute_scaled_error(y_true, y_pred)\n",
        "\n",
        "  return {\"mae\": mae.numpy(),\n",
        "          \"mse\": mse.numpy(),\n",
        "          \"rmse\": rmse.numpy(),\n",
        "          \"mape\": mape.numpy()}\n",
        "          #\"mase\": mase.numpy()}"
      ],
      "metadata": {
        "id": "sSk7rnN2hqi1"
      },
      "execution_count": 47,
      "outputs": []
    },
    {
      "cell_type": "code",
      "source": [
        "def make_preds(model, input_data):\n",
        "\n",
        "  forecast = model.predict(input_data)\n",
        "  return tf.squeeze(forecast) # return 1D array of predictions"
      ],
      "metadata": {
        "id": "UKT3_8iQh1Fv"
      },
      "execution_count": 48,
      "outputs": []
    },
    {
      "cell_type": "code",
      "source": [],
      "metadata": {
        "id": "OZbpthjTABC2"
      },
      "execution_count": 48,
      "outputs": []
    },
    {
      "cell_type": "code",
      "source": [
        "import pandas as pd\n",
        "import numpy as np\n",
        "Data=pd.read_csv(\"pipo.csv\")\n",
        "X=Data[\"Index\"]\n",
        "Y=Data[\"RMS\"]\n",
        "midpoint=int((X.size)/2)\n",
        "X=X[midpoint:]\n",
        "Y=Y[midpoint:]"
      ],
      "metadata": {
        "id": "YxNbsXy6kk3J"
      },
      "execution_count": 50,
      "outputs": []
    },
    {
      "cell_type": "code",
      "source": [
        "midpoint"
      ],
      "metadata": {
        "colab": {
          "base_uri": "https://localhost:8080/"
        },
        "id": "qiAyRyEiDbqp",
        "outputId": "3418d2ab-58de-4f61-d4c1-9dc31e4dd91c"
      },
      "execution_count": 51,
      "outputs": [
        {
          "output_type": "execute_result",
          "data": {
            "text/plain": [
              "492"
            ]
          },
          "metadata": {},
          "execution_count": 51
        }
      ]
    },
    {
      "cell_type": "code",
      "execution_count": 52,
      "metadata": {
        "id": "Hqhk8xCwjhty"
      },
      "outputs": [],
      "source": [
        "def make_windows1(y_train,horizonnn,windowww):\n",
        "    grouped_values=[]\n",
        "    horizon1=[]\n",
        "    y_train=np.array(y_train)\n",
        "    y_train1=np.array(y_train)\n",
        "\n",
        "    for i in range(0, len(y_train)-(horizonnn)-windowww+1):     #assume horizon to be 7):\n",
        "            window = y_train[i:i + horizonnn]\n",
        "\n",
        "            grouped_values.append(window)\n",
        "\n",
        "\n",
        "           #     for i in range(0, len(y_train)-(horizonnn)):\n",
        "            horizon = y_train1[i + horizonnn:i+horizonnn+windowww]\n",
        "            horizon1.append(horizon)\n",
        "\n",
        "\n",
        "\n",
        "\n",
        "\n",
        "    grouped_values=np.array(grouped_values)\n",
        "    horizon1=np.array(horizon1)\n",
        "    return (grouped_values,horizon1)"
      ]
    },
    {
      "cell_type": "code",
      "source": [
        "#import tensorflow as tf\n",
        "#Preparing the N-Beats model\n",
        "#class NBeatsBlock(tf.keras.layers.Layer):\n",
        "#  def __init__(self,input_size:int,\n",
        "#               theta_size:int,\n",
        " #              horizon:int,\n",
        "  #             n_neurons:int,\n",
        "   #            n_layers:int,**kwargs):\n",
        "  #  super().__init__(**kwargs)\n",
        "  #  self.input_size=input_size\n",
        "  #  self.theta_size=theta_size\n",
        "  #  self.horizon=horizon\n",
        "  #  self.n_neurons=n_neurons\n",
        "  #  self.n_layers=n_layers\n",
        "\n",
        "   # self.hidden=[tf.keras.layers.Dense(n_neurons,activation=\"relu\")for _ in range (n_layers)]\n",
        "\n",
        "    #output of block is a layer with hidden activation\n",
        "   # self.theta_layer=tf.keras.layers.Dense(theta_size, activation=\"linear\", name=\"theta\")\n",
        "\n",
        "#  def call(self, inputs): # the call method is what runs when the layer is called\n",
        " #   x = inputs\n",
        "  #  for layer in self.hidden: # pass inputs through each hidden layer\n",
        "   #   x = layer(x)\n",
        "    #theta = self.theta_layer(x)\n",
        "    # Output the backcast and forecast from theta\n",
        "    #backcast, forecast = theta[:, :self.input_size], theta[:, -self.horizon:]\n",
        "#    return backcast, forecast\n",
        "\n"
      ],
      "metadata": {
        "id": "176L1L0QkBjZ"
      },
      "execution_count": 9,
      "outputs": []
    },
    {
      "cell_type": "code",
      "source": [],
      "metadata": {
        "id": "31zEEq6WkopQ"
      },
      "execution_count": 9,
      "outputs": []
    },
    {
      "cell_type": "code",
      "source": [
        "WINDOW_SIZE=7\n",
        "HORIZON=1"
      ],
      "metadata": {
        "id": "tsoQyVmNvNLi"
      },
      "execution_count": 53,
      "outputs": []
    },
    {
      "cell_type": "code",
      "source": [],
      "metadata": {
        "id": "RjxEteBH56J1"
      },
      "execution_count": 10,
      "outputs": []
    },
    {
      "cell_type": "code",
      "source": [
        "#dummy_nbeats_block_layer=NBeatsBlock(input_size=WINDOW_SIZE,theta_size=WINDOW_SIZE+HORIZON,horizon=HORIZON,\n",
        "                                     #n_neurons=128,n_layers=4)"
      ],
      "metadata": {
        "id": "r9Z9oJWKrgX7"
      },
      "execution_count": 12,
      "outputs": []
    },
    {
      "cell_type": "code",
      "source": [
        "##dummy inputs (have to be same size as input_size)\n",
        "#dummy_inputs=tf.expand_dims(tf.range(WINDOW_SIZE)+1,axis=0)  #ndim=2"
      ],
      "metadata": {
        "id": "SXP9OzPtrg9J"
      },
      "execution_count": 13,
      "outputs": []
    },
    {
      "cell_type": "code",
      "source": [
        "#dummy_inputs"
      ],
      "metadata": {
        "id": "_XTeD-fcwBVw"
      },
      "execution_count": 14,
      "outputs": []
    },
    {
      "cell_type": "code",
      "source": [
        "#backcast, forecast = dummy_nbeats_block_layer(dummy_inputs) #dummy inputs to dummy NBeats layer\n",
        "#tf.squeeze(backcast.numpy())\n"
      ],
      "metadata": {
        "id": "9Xf-jaOMwDNf"
      },
      "execution_count": 15,
      "outputs": []
    },
    {
      "cell_type": "code",
      "source": [
        "#forecast"
      ],
      "metadata": {
        "id": "Z4tQ848J7l7l"
      },
      "execution_count": 16,
      "outputs": []
    },
    {
      "cell_type": "code",
      "source": [
        "# to make the input data load as fast as possible we will use tf.data\n",
        "HORIZON=1\n",
        "WINDOW_SIZE=7 #nbeats works with univariate time-series\n"
      ],
      "metadata": {
        "id": "Caek1MXA8zWV"
      },
      "execution_count": 54,
      "outputs": []
    },
    {
      "cell_type": "code",
      "source": [
        "import pandas as pd\n",
        "Data=pd.DataFrame(data=Y,index=X)"
      ],
      "metadata": {
        "id": "39DzUoqM-DD3"
      },
      "execution_count": 55,
      "outputs": []
    },
    {
      "cell_type": "markdown",
      "source": [],
      "metadata": {
        "id": "bjjA-xMCCTVt"
      }
    },
    {
      "cell_type": "code",
      "source": [
        "Data\n"
      ],
      "metadata": {
        "colab": {
          "base_uri": "https://localhost:8080/",
          "height": 455
        },
        "id": "YxNH1dzt-tJO",
        "outputId": "c12a8dba-d4c6-47b5-d165-d3e7a7af31ba"
      },
      "execution_count": 56,
      "outputs": [
        {
          "output_type": "execute_result",
          "data": {
            "text/plain": [
              "            RMS\n",
              "Index          \n",
              "492    0.077880\n",
              "493    0.078123\n",
              "494    0.076114\n",
              "495    0.077471\n",
              "496    0.076934\n",
              "...         ...\n",
              "979    0.725001\n",
              "980    0.462012\n",
              "981    0.483835\n",
              "982    0.002103\n",
              "983    0.001533\n",
              "\n",
              "[492 rows x 1 columns]"
            ],
            "text/html": [
              "\n",
              "  <div id=\"df-09c0f6e4-5e88-4f17-8ff4-953f0ac30030\" class=\"colab-df-container\">\n",
              "    <div>\n",
              "<style scoped>\n",
              "    .dataframe tbody tr th:only-of-type {\n",
              "        vertical-align: middle;\n",
              "    }\n",
              "\n",
              "    .dataframe tbody tr th {\n",
              "        vertical-align: top;\n",
              "    }\n",
              "\n",
              "    .dataframe thead th {\n",
              "        text-align: right;\n",
              "    }\n",
              "</style>\n",
              "<table border=\"1\" class=\"dataframe\">\n",
              "  <thead>\n",
              "    <tr style=\"text-align: right;\">\n",
              "      <th></th>\n",
              "      <th>RMS</th>\n",
              "    </tr>\n",
              "    <tr>\n",
              "      <th>Index</th>\n",
              "      <th></th>\n",
              "    </tr>\n",
              "  </thead>\n",
              "  <tbody>\n",
              "    <tr>\n",
              "      <th>492</th>\n",
              "      <td>0.077880</td>\n",
              "    </tr>\n",
              "    <tr>\n",
              "      <th>493</th>\n",
              "      <td>0.078123</td>\n",
              "    </tr>\n",
              "    <tr>\n",
              "      <th>494</th>\n",
              "      <td>0.076114</td>\n",
              "    </tr>\n",
              "    <tr>\n",
              "      <th>495</th>\n",
              "      <td>0.077471</td>\n",
              "    </tr>\n",
              "    <tr>\n",
              "      <th>496</th>\n",
              "      <td>0.076934</td>\n",
              "    </tr>\n",
              "    <tr>\n",
              "      <th>...</th>\n",
              "      <td>...</td>\n",
              "    </tr>\n",
              "    <tr>\n",
              "      <th>979</th>\n",
              "      <td>0.725001</td>\n",
              "    </tr>\n",
              "    <tr>\n",
              "      <th>980</th>\n",
              "      <td>0.462012</td>\n",
              "    </tr>\n",
              "    <tr>\n",
              "      <th>981</th>\n",
              "      <td>0.483835</td>\n",
              "    </tr>\n",
              "    <tr>\n",
              "      <th>982</th>\n",
              "      <td>0.002103</td>\n",
              "    </tr>\n",
              "    <tr>\n",
              "      <th>983</th>\n",
              "      <td>0.001533</td>\n",
              "    </tr>\n",
              "  </tbody>\n",
              "</table>\n",
              "<p>492 rows × 1 columns</p>\n",
              "</div>\n",
              "    <div class=\"colab-df-buttons\">\n",
              "\n",
              "  <div class=\"colab-df-container\">\n",
              "    <button class=\"colab-df-convert\" onclick=\"convertToInteractive('df-09c0f6e4-5e88-4f17-8ff4-953f0ac30030')\"\n",
              "            title=\"Convert this dataframe to an interactive table.\"\n",
              "            style=\"display:none;\">\n",
              "\n",
              "  <svg xmlns=\"http://www.w3.org/2000/svg\" height=\"24px\" viewBox=\"0 -960 960 960\">\n",
              "    <path d=\"M120-120v-720h720v720H120Zm60-500h600v-160H180v160Zm220 220h160v-160H400v160Zm0 220h160v-160H400v160ZM180-400h160v-160H180v160Zm440 0h160v-160H620v160ZM180-180h160v-160H180v160Zm440 0h160v-160H620v160Z\"/>\n",
              "  </svg>\n",
              "    </button>\n",
              "\n",
              "  <style>\n",
              "    .colab-df-container {\n",
              "      display:flex;\n",
              "      gap: 12px;\n",
              "    }\n",
              "\n",
              "    .colab-df-convert {\n",
              "      background-color: #E8F0FE;\n",
              "      border: none;\n",
              "      border-radius: 50%;\n",
              "      cursor: pointer;\n",
              "      display: none;\n",
              "      fill: #1967D2;\n",
              "      height: 32px;\n",
              "      padding: 0 0 0 0;\n",
              "      width: 32px;\n",
              "    }\n",
              "\n",
              "    .colab-df-convert:hover {\n",
              "      background-color: #E2EBFA;\n",
              "      box-shadow: 0px 1px 2px rgba(60, 64, 67, 0.3), 0px 1px 3px 1px rgba(60, 64, 67, 0.15);\n",
              "      fill: #174EA6;\n",
              "    }\n",
              "\n",
              "    .colab-df-buttons div {\n",
              "      margin-bottom: 4px;\n",
              "    }\n",
              "\n",
              "    [theme=dark] .colab-df-convert {\n",
              "      background-color: #3B4455;\n",
              "      fill: #D2E3FC;\n",
              "    }\n",
              "\n",
              "    [theme=dark] .colab-df-convert:hover {\n",
              "      background-color: #434B5C;\n",
              "      box-shadow: 0px 1px 3px 1px rgba(0, 0, 0, 0.15);\n",
              "      filter: drop-shadow(0px 1px 2px rgba(0, 0, 0, 0.3));\n",
              "      fill: #FFFFFF;\n",
              "    }\n",
              "  </style>\n",
              "\n",
              "    <script>\n",
              "      const buttonEl =\n",
              "        document.querySelector('#df-09c0f6e4-5e88-4f17-8ff4-953f0ac30030 button.colab-df-convert');\n",
              "      buttonEl.style.display =\n",
              "        google.colab.kernel.accessAllowed ? 'block' : 'none';\n",
              "\n",
              "      async function convertToInteractive(key) {\n",
              "        const element = document.querySelector('#df-09c0f6e4-5e88-4f17-8ff4-953f0ac30030');\n",
              "        const dataTable =\n",
              "          await google.colab.kernel.invokeFunction('convertToInteractive',\n",
              "                                                    [key], {});\n",
              "        if (!dataTable) return;\n",
              "\n",
              "        const docLinkHtml = 'Like what you see? Visit the ' +\n",
              "          '<a target=\"_blank\" href=https://colab.research.google.com/notebooks/data_table.ipynb>data table notebook</a>'\n",
              "          + ' to learn more about interactive tables.';\n",
              "        element.innerHTML = '';\n",
              "        dataTable['output_type'] = 'display_data';\n",
              "        await google.colab.output.renderOutput(dataTable, element);\n",
              "        const docLink = document.createElement('div');\n",
              "        docLink.innerHTML = docLinkHtml;\n",
              "        element.appendChild(docLink);\n",
              "      }\n",
              "    </script>\n",
              "  </div>\n",
              "\n",
              "\n",
              "<div id=\"df-a45fed77-4f1e-4927-bdd1-0317e5101826\">\n",
              "  <button class=\"colab-df-quickchart\" onclick=\"quickchart('df-a45fed77-4f1e-4927-bdd1-0317e5101826')\"\n",
              "            title=\"Suggest charts\"\n",
              "            style=\"display:none;\">\n",
              "\n",
              "<svg xmlns=\"http://www.w3.org/2000/svg\" height=\"24px\"viewBox=\"0 0 24 24\"\n",
              "     width=\"24px\">\n",
              "    <g>\n",
              "        <path d=\"M19 3H5c-1.1 0-2 .9-2 2v14c0 1.1.9 2 2 2h14c1.1 0 2-.9 2-2V5c0-1.1-.9-2-2-2zM9 17H7v-7h2v7zm4 0h-2V7h2v10zm4 0h-2v-4h2v4z\"/>\n",
              "    </g>\n",
              "</svg>\n",
              "  </button>\n",
              "\n",
              "<style>\n",
              "  .colab-df-quickchart {\n",
              "      --bg-color: #E8F0FE;\n",
              "      --fill-color: #1967D2;\n",
              "      --hover-bg-color: #E2EBFA;\n",
              "      --hover-fill-color: #174EA6;\n",
              "      --disabled-fill-color: #AAA;\n",
              "      --disabled-bg-color: #DDD;\n",
              "  }\n",
              "\n",
              "  [theme=dark] .colab-df-quickchart {\n",
              "      --bg-color: #3B4455;\n",
              "      --fill-color: #D2E3FC;\n",
              "      --hover-bg-color: #434B5C;\n",
              "      --hover-fill-color: #FFFFFF;\n",
              "      --disabled-bg-color: #3B4455;\n",
              "      --disabled-fill-color: #666;\n",
              "  }\n",
              "\n",
              "  .colab-df-quickchart {\n",
              "    background-color: var(--bg-color);\n",
              "    border: none;\n",
              "    border-radius: 50%;\n",
              "    cursor: pointer;\n",
              "    display: none;\n",
              "    fill: var(--fill-color);\n",
              "    height: 32px;\n",
              "    padding: 0;\n",
              "    width: 32px;\n",
              "  }\n",
              "\n",
              "  .colab-df-quickchart:hover {\n",
              "    background-color: var(--hover-bg-color);\n",
              "    box-shadow: 0 1px 2px rgba(60, 64, 67, 0.3), 0 1px 3px 1px rgba(60, 64, 67, 0.15);\n",
              "    fill: var(--button-hover-fill-color);\n",
              "  }\n",
              "\n",
              "  .colab-df-quickchart-complete:disabled,\n",
              "  .colab-df-quickchart-complete:disabled:hover {\n",
              "    background-color: var(--disabled-bg-color);\n",
              "    fill: var(--disabled-fill-color);\n",
              "    box-shadow: none;\n",
              "  }\n",
              "\n",
              "  .colab-df-spinner {\n",
              "    border: 2px solid var(--fill-color);\n",
              "    border-color: transparent;\n",
              "    border-bottom-color: var(--fill-color);\n",
              "    animation:\n",
              "      spin 1s steps(1) infinite;\n",
              "  }\n",
              "\n",
              "  @keyframes spin {\n",
              "    0% {\n",
              "      border-color: transparent;\n",
              "      border-bottom-color: var(--fill-color);\n",
              "      border-left-color: var(--fill-color);\n",
              "    }\n",
              "    20% {\n",
              "      border-color: transparent;\n",
              "      border-left-color: var(--fill-color);\n",
              "      border-top-color: var(--fill-color);\n",
              "    }\n",
              "    30% {\n",
              "      border-color: transparent;\n",
              "      border-left-color: var(--fill-color);\n",
              "      border-top-color: var(--fill-color);\n",
              "      border-right-color: var(--fill-color);\n",
              "    }\n",
              "    40% {\n",
              "      border-color: transparent;\n",
              "      border-right-color: var(--fill-color);\n",
              "      border-top-color: var(--fill-color);\n",
              "    }\n",
              "    60% {\n",
              "      border-color: transparent;\n",
              "      border-right-color: var(--fill-color);\n",
              "    }\n",
              "    80% {\n",
              "      border-color: transparent;\n",
              "      border-right-color: var(--fill-color);\n",
              "      border-bottom-color: var(--fill-color);\n",
              "    }\n",
              "    90% {\n",
              "      border-color: transparent;\n",
              "      border-bottom-color: var(--fill-color);\n",
              "    }\n",
              "  }\n",
              "</style>\n",
              "\n",
              "  <script>\n",
              "    async function quickchart(key) {\n",
              "      const quickchartButtonEl =\n",
              "        document.querySelector('#' + key + ' button');\n",
              "      quickchartButtonEl.disabled = true;  // To prevent multiple clicks.\n",
              "      quickchartButtonEl.classList.add('colab-df-spinner');\n",
              "      try {\n",
              "        const charts = await google.colab.kernel.invokeFunction(\n",
              "            'suggestCharts', [key], {});\n",
              "      } catch (error) {\n",
              "        console.error('Error during call to suggestCharts:', error);\n",
              "      }\n",
              "      quickchartButtonEl.classList.remove('colab-df-spinner');\n",
              "      quickchartButtonEl.classList.add('colab-df-quickchart-complete');\n",
              "    }\n",
              "    (() => {\n",
              "      let quickchartButtonEl =\n",
              "        document.querySelector('#df-a45fed77-4f1e-4927-bdd1-0317e5101826 button');\n",
              "      quickchartButtonEl.style.display =\n",
              "        google.colab.kernel.accessAllowed ? 'block' : 'none';\n",
              "    })();\n",
              "  </script>\n",
              "</div>\n",
              "    </div>\n",
              "  </div>\n"
            ]
          },
          "metadata": {},
          "execution_count": 56
        }
      ]
    },
    {
      "cell_type": "code",
      "source": [
        "DATA_Nbeats=Data.copy()\n",
        "for i in range(WINDOW_SIZE):\n",
        "  DATA_Nbeats[f\"RMS+{i+1}\"]=DATA_Nbeats[\"RMS\"].shift(periods=i+1)\n",
        "\n",
        "DATA_Nbeats.head()\n",
        "\n"
      ],
      "metadata": {
        "colab": {
          "base_uri": "https://localhost:8080/",
          "height": 237
        },
        "id": "SAor94pi-wti",
        "outputId": "dd66a6f4-5a84-4687-86ea-d936ca0561b0"
      },
      "execution_count": 57,
      "outputs": [
        {
          "output_type": "execute_result",
          "data": {
            "text/plain": [
              "            RMS     RMS+1     RMS+2     RMS+3    RMS+4  RMS+5  RMS+6  RMS+7\n",
              "Index                                                                      \n",
              "492    0.077880       NaN       NaN       NaN      NaN    NaN    NaN    NaN\n",
              "493    0.078123  0.077880       NaN       NaN      NaN    NaN    NaN    NaN\n",
              "494    0.076114  0.078123  0.077880       NaN      NaN    NaN    NaN    NaN\n",
              "495    0.077471  0.076114  0.078123  0.077880      NaN    NaN    NaN    NaN\n",
              "496    0.076934  0.077471  0.076114  0.078123  0.07788    NaN    NaN    NaN"
            ],
            "text/html": [
              "\n",
              "  <div id=\"df-8bced681-dc58-4748-8527-37f823a2decf\" class=\"colab-df-container\">\n",
              "    <div>\n",
              "<style scoped>\n",
              "    .dataframe tbody tr th:only-of-type {\n",
              "        vertical-align: middle;\n",
              "    }\n",
              "\n",
              "    .dataframe tbody tr th {\n",
              "        vertical-align: top;\n",
              "    }\n",
              "\n",
              "    .dataframe thead th {\n",
              "        text-align: right;\n",
              "    }\n",
              "</style>\n",
              "<table border=\"1\" class=\"dataframe\">\n",
              "  <thead>\n",
              "    <tr style=\"text-align: right;\">\n",
              "      <th></th>\n",
              "      <th>RMS</th>\n",
              "      <th>RMS+1</th>\n",
              "      <th>RMS+2</th>\n",
              "      <th>RMS+3</th>\n",
              "      <th>RMS+4</th>\n",
              "      <th>RMS+5</th>\n",
              "      <th>RMS+6</th>\n",
              "      <th>RMS+7</th>\n",
              "    </tr>\n",
              "    <tr>\n",
              "      <th>Index</th>\n",
              "      <th></th>\n",
              "      <th></th>\n",
              "      <th></th>\n",
              "      <th></th>\n",
              "      <th></th>\n",
              "      <th></th>\n",
              "      <th></th>\n",
              "      <th></th>\n",
              "    </tr>\n",
              "  </thead>\n",
              "  <tbody>\n",
              "    <tr>\n",
              "      <th>492</th>\n",
              "      <td>0.077880</td>\n",
              "      <td>NaN</td>\n",
              "      <td>NaN</td>\n",
              "      <td>NaN</td>\n",
              "      <td>NaN</td>\n",
              "      <td>NaN</td>\n",
              "      <td>NaN</td>\n",
              "      <td>NaN</td>\n",
              "    </tr>\n",
              "    <tr>\n",
              "      <th>493</th>\n",
              "      <td>0.078123</td>\n",
              "      <td>0.077880</td>\n",
              "      <td>NaN</td>\n",
              "      <td>NaN</td>\n",
              "      <td>NaN</td>\n",
              "      <td>NaN</td>\n",
              "      <td>NaN</td>\n",
              "      <td>NaN</td>\n",
              "    </tr>\n",
              "    <tr>\n",
              "      <th>494</th>\n",
              "      <td>0.076114</td>\n",
              "      <td>0.078123</td>\n",
              "      <td>0.077880</td>\n",
              "      <td>NaN</td>\n",
              "      <td>NaN</td>\n",
              "      <td>NaN</td>\n",
              "      <td>NaN</td>\n",
              "      <td>NaN</td>\n",
              "    </tr>\n",
              "    <tr>\n",
              "      <th>495</th>\n",
              "      <td>0.077471</td>\n",
              "      <td>0.076114</td>\n",
              "      <td>0.078123</td>\n",
              "      <td>0.077880</td>\n",
              "      <td>NaN</td>\n",
              "      <td>NaN</td>\n",
              "      <td>NaN</td>\n",
              "      <td>NaN</td>\n",
              "    </tr>\n",
              "    <tr>\n",
              "      <th>496</th>\n",
              "      <td>0.076934</td>\n",
              "      <td>0.077471</td>\n",
              "      <td>0.076114</td>\n",
              "      <td>0.078123</td>\n",
              "      <td>0.07788</td>\n",
              "      <td>NaN</td>\n",
              "      <td>NaN</td>\n",
              "      <td>NaN</td>\n",
              "    </tr>\n",
              "  </tbody>\n",
              "</table>\n",
              "</div>\n",
              "    <div class=\"colab-df-buttons\">\n",
              "\n",
              "  <div class=\"colab-df-container\">\n",
              "    <button class=\"colab-df-convert\" onclick=\"convertToInteractive('df-8bced681-dc58-4748-8527-37f823a2decf')\"\n",
              "            title=\"Convert this dataframe to an interactive table.\"\n",
              "            style=\"display:none;\">\n",
              "\n",
              "  <svg xmlns=\"http://www.w3.org/2000/svg\" height=\"24px\" viewBox=\"0 -960 960 960\">\n",
              "    <path d=\"M120-120v-720h720v720H120Zm60-500h600v-160H180v160Zm220 220h160v-160H400v160Zm0 220h160v-160H400v160ZM180-400h160v-160H180v160Zm440 0h160v-160H620v160ZM180-180h160v-160H180v160Zm440 0h160v-160H620v160Z\"/>\n",
              "  </svg>\n",
              "    </button>\n",
              "\n",
              "  <style>\n",
              "    .colab-df-container {\n",
              "      display:flex;\n",
              "      gap: 12px;\n",
              "    }\n",
              "\n",
              "    .colab-df-convert {\n",
              "      background-color: #E8F0FE;\n",
              "      border: none;\n",
              "      border-radius: 50%;\n",
              "      cursor: pointer;\n",
              "      display: none;\n",
              "      fill: #1967D2;\n",
              "      height: 32px;\n",
              "      padding: 0 0 0 0;\n",
              "      width: 32px;\n",
              "    }\n",
              "\n",
              "    .colab-df-convert:hover {\n",
              "      background-color: #E2EBFA;\n",
              "      box-shadow: 0px 1px 2px rgba(60, 64, 67, 0.3), 0px 1px 3px 1px rgba(60, 64, 67, 0.15);\n",
              "      fill: #174EA6;\n",
              "    }\n",
              "\n",
              "    .colab-df-buttons div {\n",
              "      margin-bottom: 4px;\n",
              "    }\n",
              "\n",
              "    [theme=dark] .colab-df-convert {\n",
              "      background-color: #3B4455;\n",
              "      fill: #D2E3FC;\n",
              "    }\n",
              "\n",
              "    [theme=dark] .colab-df-convert:hover {\n",
              "      background-color: #434B5C;\n",
              "      box-shadow: 0px 1px 3px 1px rgba(0, 0, 0, 0.15);\n",
              "      filter: drop-shadow(0px 1px 2px rgba(0, 0, 0, 0.3));\n",
              "      fill: #FFFFFF;\n",
              "    }\n",
              "  </style>\n",
              "\n",
              "    <script>\n",
              "      const buttonEl =\n",
              "        document.querySelector('#df-8bced681-dc58-4748-8527-37f823a2decf button.colab-df-convert');\n",
              "      buttonEl.style.display =\n",
              "        google.colab.kernel.accessAllowed ? 'block' : 'none';\n",
              "\n",
              "      async function convertToInteractive(key) {\n",
              "        const element = document.querySelector('#df-8bced681-dc58-4748-8527-37f823a2decf');\n",
              "        const dataTable =\n",
              "          await google.colab.kernel.invokeFunction('convertToInteractive',\n",
              "                                                    [key], {});\n",
              "        if (!dataTable) return;\n",
              "\n",
              "        const docLinkHtml = 'Like what you see? Visit the ' +\n",
              "          '<a target=\"_blank\" href=https://colab.research.google.com/notebooks/data_table.ipynb>data table notebook</a>'\n",
              "          + ' to learn more about interactive tables.';\n",
              "        element.innerHTML = '';\n",
              "        dataTable['output_type'] = 'display_data';\n",
              "        await google.colab.output.renderOutput(dataTable, element);\n",
              "        const docLink = document.createElement('div');\n",
              "        docLink.innerHTML = docLinkHtml;\n",
              "        element.appendChild(docLink);\n",
              "      }\n",
              "    </script>\n",
              "  </div>\n",
              "\n",
              "\n",
              "<div id=\"df-d1c9804b-8c1b-4cb9-8b9c-ebadcb5a89a5\">\n",
              "  <button class=\"colab-df-quickchart\" onclick=\"quickchart('df-d1c9804b-8c1b-4cb9-8b9c-ebadcb5a89a5')\"\n",
              "            title=\"Suggest charts\"\n",
              "            style=\"display:none;\">\n",
              "\n",
              "<svg xmlns=\"http://www.w3.org/2000/svg\" height=\"24px\"viewBox=\"0 0 24 24\"\n",
              "     width=\"24px\">\n",
              "    <g>\n",
              "        <path d=\"M19 3H5c-1.1 0-2 .9-2 2v14c0 1.1.9 2 2 2h14c1.1 0 2-.9 2-2V5c0-1.1-.9-2-2-2zM9 17H7v-7h2v7zm4 0h-2V7h2v10zm4 0h-2v-4h2v4z\"/>\n",
              "    </g>\n",
              "</svg>\n",
              "  </button>\n",
              "\n",
              "<style>\n",
              "  .colab-df-quickchart {\n",
              "      --bg-color: #E8F0FE;\n",
              "      --fill-color: #1967D2;\n",
              "      --hover-bg-color: #E2EBFA;\n",
              "      --hover-fill-color: #174EA6;\n",
              "      --disabled-fill-color: #AAA;\n",
              "      --disabled-bg-color: #DDD;\n",
              "  }\n",
              "\n",
              "  [theme=dark] .colab-df-quickchart {\n",
              "      --bg-color: #3B4455;\n",
              "      --fill-color: #D2E3FC;\n",
              "      --hover-bg-color: #434B5C;\n",
              "      --hover-fill-color: #FFFFFF;\n",
              "      --disabled-bg-color: #3B4455;\n",
              "      --disabled-fill-color: #666;\n",
              "  }\n",
              "\n",
              "  .colab-df-quickchart {\n",
              "    background-color: var(--bg-color);\n",
              "    border: none;\n",
              "    border-radius: 50%;\n",
              "    cursor: pointer;\n",
              "    display: none;\n",
              "    fill: var(--fill-color);\n",
              "    height: 32px;\n",
              "    padding: 0;\n",
              "    width: 32px;\n",
              "  }\n",
              "\n",
              "  .colab-df-quickchart:hover {\n",
              "    background-color: var(--hover-bg-color);\n",
              "    box-shadow: 0 1px 2px rgba(60, 64, 67, 0.3), 0 1px 3px 1px rgba(60, 64, 67, 0.15);\n",
              "    fill: var(--button-hover-fill-color);\n",
              "  }\n",
              "\n",
              "  .colab-df-quickchart-complete:disabled,\n",
              "  .colab-df-quickchart-complete:disabled:hover {\n",
              "    background-color: var(--disabled-bg-color);\n",
              "    fill: var(--disabled-fill-color);\n",
              "    box-shadow: none;\n",
              "  }\n",
              "\n",
              "  .colab-df-spinner {\n",
              "    border: 2px solid var(--fill-color);\n",
              "    border-color: transparent;\n",
              "    border-bottom-color: var(--fill-color);\n",
              "    animation:\n",
              "      spin 1s steps(1) infinite;\n",
              "  }\n",
              "\n",
              "  @keyframes spin {\n",
              "    0% {\n",
              "      border-color: transparent;\n",
              "      border-bottom-color: var(--fill-color);\n",
              "      border-left-color: var(--fill-color);\n",
              "    }\n",
              "    20% {\n",
              "      border-color: transparent;\n",
              "      border-left-color: var(--fill-color);\n",
              "      border-top-color: var(--fill-color);\n",
              "    }\n",
              "    30% {\n",
              "      border-color: transparent;\n",
              "      border-left-color: var(--fill-color);\n",
              "      border-top-color: var(--fill-color);\n",
              "      border-right-color: var(--fill-color);\n",
              "    }\n",
              "    40% {\n",
              "      border-color: transparent;\n",
              "      border-right-color: var(--fill-color);\n",
              "      border-top-color: var(--fill-color);\n",
              "    }\n",
              "    60% {\n",
              "      border-color: transparent;\n",
              "      border-right-color: var(--fill-color);\n",
              "    }\n",
              "    80% {\n",
              "      border-color: transparent;\n",
              "      border-right-color: var(--fill-color);\n",
              "      border-bottom-color: var(--fill-color);\n",
              "    }\n",
              "    90% {\n",
              "      border-color: transparent;\n",
              "      border-bottom-color: var(--fill-color);\n",
              "    }\n",
              "  }\n",
              "</style>\n",
              "\n",
              "  <script>\n",
              "    async function quickchart(key) {\n",
              "      const quickchartButtonEl =\n",
              "        document.querySelector('#' + key + ' button');\n",
              "      quickchartButtonEl.disabled = true;  // To prevent multiple clicks.\n",
              "      quickchartButtonEl.classList.add('colab-df-spinner');\n",
              "      try {\n",
              "        const charts = await google.colab.kernel.invokeFunction(\n",
              "            'suggestCharts', [key], {});\n",
              "      } catch (error) {\n",
              "        console.error('Error during call to suggestCharts:', error);\n",
              "      }\n",
              "      quickchartButtonEl.classList.remove('colab-df-spinner');\n",
              "      quickchartButtonEl.classList.add('colab-df-quickchart-complete');\n",
              "    }\n",
              "    (() => {\n",
              "      let quickchartButtonEl =\n",
              "        document.querySelector('#df-d1c9804b-8c1b-4cb9-8b9c-ebadcb5a89a5 button');\n",
              "      quickchartButtonEl.style.display =\n",
              "        google.colab.kernel.accessAllowed ? 'block' : 'none';\n",
              "    })();\n",
              "  </script>\n",
              "</div>\n",
              "    </div>\n",
              "  </div>\n"
            ]
          },
          "metadata": {},
          "execution_count": 57
        }
      ]
    },
    {
      "cell_type": "code",
      "source": [
        "#make features and labels\n",
        "X=DATA_Nbeats.dropna().drop(\"RMS\",axis=1)\n",
        "Y=DATA_Nbeats.dropna()[\"RMS\"]\n",
        "\n",
        "#make train and test sets\n",
        "split_size = int(len(X) * 0.8)\n",
        "X_train, Y_train = X[:split_size],Y[:split_size]\n",
        "X_test, Y_test = X[split_size:], Y[split_size:]\n",
        "len(X_train), len(Y_train), len(X_test), len(Y_test)"
      ],
      "metadata": {
        "colab": {
          "base_uri": "https://localhost:8080/"
        },
        "id": "E3Q07N4gCD03",
        "outputId": "3278583d-0fef-4f64-cf64-df0ba77187c1"
      },
      "execution_count": 58,
      "outputs": [
        {
          "output_type": "execute_result",
          "data": {
            "text/plain": [
              "(388, 388, 97, 97)"
            ]
          },
          "metadata": {},
          "execution_count": 58
        }
      ]
    },
    {
      "cell_type": "code",
      "source": [
        "train_features_dataset=tf.data.Dataset.from_tensor_slices(X_train)\n",
        "train_labels_dataset=tf.data.Dataset.from_tensor_slices(Y_train)\n",
        "\n",
        "test_features_dataset=tf.data.Dataset.from_tensor_slices(X_test)\n",
        "test_labels_dataset=tf.data.Dataset.from_tensor_slices(Y_test)\n",
        "\n",
        "train_dataset=tf.data.Dataset.zip((train_features_dataset,train_labels_dataset))\n",
        "test_dataset=tf.data.Dataset.zip((test_features_dataset,test_labels_dataset))\n",
        "\n",
        "#Batch and prefetch\n",
        "BATCH_SIZE=1024\n",
        "train_dataset=train_dataset.batch(BATCH_SIZE).prefetch(tf.data.AUTOTUNE)\n",
        "test_dataset=test_dataset.batch(BATCH_SIZE).prefetch(tf.data.AUTOTUNE)\n",
        "\n",
        "train_dataset, test_dataset\n"
      ],
      "metadata": {
        "colab": {
          "base_uri": "https://localhost:8080/"
        },
        "id": "IUEvF4BAFFbj",
        "outputId": "36fa9e80-6c3e-47fc-deec-2adb0b5e39d0"
      },
      "execution_count": 59,
      "outputs": [
        {
          "output_type": "execute_result",
          "data": {
            "text/plain": [
              "(<_PrefetchDataset element_spec=(TensorSpec(shape=(None, 7), dtype=tf.float64, name=None), TensorSpec(shape=(None,), dtype=tf.float64, name=None))>,\n",
              " <_PrefetchDataset element_spec=(TensorSpec(shape=(None, 7), dtype=tf.float64, name=None), TensorSpec(shape=(None,), dtype=tf.float64, name=None))>)"
            ]
          },
          "metadata": {},
          "execution_count": 59
        }
      ]
    },
    {
      "cell_type": "code",
      "source": [
        "##setting up hyperparameters for N-BEAT\n",
        "#values from N-BEATS Paper\n",
        "N_EPOCHS=5000\n",
        "N_NEURONS=512\n",
        "N_LAYERS=4\n",
        "N_STACKS=30\n",
        "\n",
        "\n",
        "INPUT_SIZE=WINDOW_SIZE*HORIZON\n",
        "THETA_SIZE=INPUT_SIZE+HORIZON\n",
        "\n",
        "INPUT_SIZE,THETA_SIZE"
      ],
      "metadata": {
        "colab": {
          "base_uri": "https://localhost:8080/"
        },
        "id": "FCmB7feBJSn_",
        "outputId": "718197ae-6e6e-4d94-b54c-a5270ef87e01"
      },
      "execution_count": 60,
      "outputs": [
        {
          "output_type": "execute_result",
          "data": {
            "text/plain": [
              "(7, 8)"
            ]
          },
          "metadata": {},
          "execution_count": 60
        }
      ]
    },
    {
      "cell_type": "code",
      "source": [
        "#preparing for residual connections(residual neural networks)\n",
        "\n",
        "#make tensors\n",
        "#before we can craft our N-beats model, we need two layers for the residual connections (subtract and addd).0\n",
        "tensor_1=tf.range(10)+10\n",
        "tensor_2=tf.range(10)\n",
        "\n",
        "#subtract\n",
        "subtracted=tf.keras.layers.subtract([tensor_1,tensor_2])\n",
        "#add\n",
        "added=tf.keras.layers.add([tensor_1,tensor_2])\n",
        "\n",
        "#get outputs\n",
        "subtracted,added"
      ],
      "metadata": {
        "colab": {
          "base_uri": "https://localhost:8080/"
        },
        "id": "IxHsDFF9Lf6f",
        "outputId": "797ff42e-8d2f-4141-9aad-13edc4f61bb9"
      },
      "execution_count": 24,
      "outputs": [
        {
          "output_type": "execute_result",
          "data": {
            "text/plain": [
              "(<tf.Tensor: shape=(10,), dtype=int32, numpy=array([10, 10, 10, 10, 10, 10, 10, 10, 10, 10], dtype=int32)>,\n",
              " <tf.Tensor: shape=(10,), dtype=int32, numpy=array([10, 12, 14, 16, 18, 20, 22, 24, 26, 28], dtype=int32)>)"
            ]
          },
          "metadata": {},
          "execution_count": 24
        }
      ]
    },
    {
      "cell_type": "code",
      "source": [
        "#setup an instance of the nbeats block\n",
        "#create an input layer for the N-Beats stack\n",
        "#make the initial backcast and forecasts for the model with the layer created in 1\n",
        "#use the NBeatsBlock class within the for loop\n",
        "\n",
        "#tf.random.set_seed(42)\n",
        "\n",
        "#nbeats_block_layer=NBeatsBlock(input_size=INPUT_SIZE,\n",
        " #                              theta_size=THETA_SIZE,\n",
        "  #                             horizon=HORIZON,\n",
        "   #                            n_neurons=N_NEURONS,\n",
        "    #                           n_layers=N_LAYERS,\n",
        "     #                          name=\"InitialBlock\")\n",
        "\n",
        "#Create input to stack\n",
        "#stack_input=tf.keras.layers.Input(shape=(INPUT_SIZE),name=\"stack_input\")\n",
        "\n",
        "#backcast, forecast = nbeats_block_layer(stack_input)\n",
        "# Add in subtraction residual link, thank you to: https://github.com/mrdbourke/tensorflow-deep-learning/discussions/174\n",
        "#residuals = tf.keras.layers.subtract([stack_input, backcast], name=f\"subtract_00\")\n",
        "\n",
        "#Create stacks of block layers\n",
        "#for i, _ in enumerate(range(N_STACKS-1)):\n",
        "\n",
        "#Use NBeatsBlock to calculate the backcast as well as the forecast\n",
        " # backcast,block_forecast=NBeatsBlock(\n",
        "  #   input_size=INPUT_SIZE,\n",
        "   #  theta_size=THETA_SIZE,\n",
        "    # horizon=HORIZON,\n",
        "    # n_neurons=N_NEURONS,\n",
        "    # n_layers=N_LAYERS,\n",
        "    # name=f\"NBeatsBlock_{i}\"\n",
        "     #)(residuals)   #pass in the residuals\n",
        "\n",
        "#create the double residual stacking\n",
        "  #residuals=tf.keras.layers.subtract([residuals,backcast], name=f\"subtract_{i}\")\n",
        "  #forecast=tf.keras.layers.add([forecast,block_forecast],name=f\"add_{i}\")\n",
        "\n",
        "#put stack model together\n",
        "#model_7=tf.keras.Model(inputs=stack_input, outputs=forecast, name=\"model_7_NBEATS\")\n",
        "\n",
        "#compile model with mae loss\n",
        "#model_7.compile(loss=\"mae\",\n",
        " #               optimizer=tf.keras.optimizers.Adam())\n",
        "\n",
        "#fit the model with EarlyStopping and ReduceLRonPlateau\n",
        "#model_7.fit(train_dataset,\n",
        "#            epochs=N_EPOCHS,\n",
        " #           validation_data=test_dataset,\n",
        "  #          verbose=0,\n",
        "   #         callbacks=[tf.keras.callbacks.EarlyStopping(monitor=\"val_loss\",\n",
        "    #                                                    patience=200,\n",
        "     #                                                   restore_best_weights=True),\n",
        "      #                 tf.keras.callbacks.ReduceLROnPlateau(monitor=\"val_loss\",\n",
        "       #                                                     patience=100,\n",
        "        #                                                    verbose=1)])\n",
        "\n",
        "\n"
      ],
      "metadata": {
        "id": "gAdB-l4lRrTz"
      },
      "execution_count": 25,
      "outputs": []
    },
    {
      "cell_type": "code",
      "source": [
        "#model_7.evaluate(test_dataset)"
      ],
      "metadata": {
        "id": "L0p1_sNqaGkM"
      },
      "execution_count": 26,
      "outputs": []
    },
    {
      "cell_type": "code",
      "source": [
        "def get_ensemble_models(horizon=HORIZON,\n",
        "                        train_data=train_dataset,\n",
        "                        test_data=test_dataset,\n",
        "                        num_iter=10,\n",
        "                        num_epochs=100,\n",
        "                        loss_fns=[\"mae\", \"mse\", \"mape\"]):\n",
        "  \"\"\"\n",
        "  Returns a list of num_iter models each trained on MAE, MSE and MAPE loss.\n",
        "\n",
        "  For example, if num_iter=10, a list of 30 trained models will be returned:\n",
        "  10 * len([\"mae\", \"mse\", \"mape\"]).\n",
        "  \"\"\"\n",
        "  # Make empty list for trained ensemble models\n",
        "  ensemble_models = []\n",
        "\n",
        "  # Create num_iter number of models per loss function\n",
        "  for i in range(num_iter):\n",
        "    # Build and fit a new model with a different loss function\n",
        "    for loss_function in loss_fns:\n",
        "      print(f\"Optimizing model by reducing: {loss_function} for {num_epochs} epochs, model number: {i}\")\n",
        "\n",
        "      # Construct a simple model (similar to model_1)\n",
        "      model = tf.keras.Sequential([\n",
        "        # Initialize layers with normal (Gaussian) distribution so we can use the models for prediction\n",
        "        # interval estimation later: https://www.tensorflow.org/api_docs/python/tf/keras/initializers/HeNormal\n",
        "        tf.keras.layers.Dense(128, kernel_initializer=\"he_normal\", activation=\"relu\"),\n",
        "        tf.keras.layers.Dense(128, kernel_initializer=\"he_normal\", activation=\"relu\"),\n",
        "        tf.keras.layers.Dense(HORIZON)\n",
        "      ])\n",
        "\n",
        "      # Compile simple model with current loss function\n",
        "      model.compile(loss=loss_function,\n",
        "                    optimizer=tf.keras.optimizers.Adam(),\n",
        "                    metrics=[\"mae\", \"mse\"])\n",
        "\n",
        "      # Fit model\n",
        "      model.fit(train_data,\n",
        "                epochs=num_epochs,\n",
        "                verbose=0,\n",
        "                validation_data=test_data,\n",
        "                # Add callbacks to prevent training from going/stalling for too long\n",
        "                callbacks=[tf.keras.callbacks.EarlyStopping(monitor=\"val_loss\",\n",
        "                                                            patience=200,\n",
        "                                                            restore_best_weights=True),\n",
        "                           tf.keras.callbacks.ReduceLROnPlateau(monitor=\"val_loss\",\n",
        "                                                                patience=100,\n",
        "                                                                verbose=1)])\n",
        "\n",
        "      # Append fitted model to list of ensemble models\n",
        "      ensemble_models.append(model)\n",
        "\n",
        "  return ensemble_models # return list of trained models"
      ],
      "metadata": {
        "id": "v77eFhoigGKt"
      },
      "execution_count": 61,
      "outputs": []
    },
    {
      "cell_type": "code",
      "source": [
        "%%time\n",
        "ensembele_models=get_ensemble_models(num_iter=5,\n",
        "                                     num_epochs=1000\n",
        "                                     )"
      ],
      "metadata": {
        "id": "9Py7MXxeg4oO",
        "colab": {
          "base_uri": "https://localhost:8080/"
        },
        "outputId": "16e0c711-2a67-4f83-cfe1-1fab53b06bac"
      },
      "execution_count": 62,
      "outputs": [
        {
          "output_type": "stream",
          "name": "stdout",
          "text": [
            "Optimizing model by reducing: mae for 1000 epochs, model number: 0\n",
            "\n",
            "Epoch 289: ReduceLROnPlateau reducing learning rate to 0.00010000000474974513.\n",
            "\n",
            "Epoch 391: ReduceLROnPlateau reducing learning rate to 1.0000000474974514e-05.\n",
            "\n",
            "Epoch 491: ReduceLROnPlateau reducing learning rate to 1.0000000656873453e-06.\n",
            "Optimizing model by reducing: mse for 1000 epochs, model number: 0\n",
            "\n",
            "Epoch 138: ReduceLROnPlateau reducing learning rate to 0.00010000000474974513.\n",
            "\n",
            "Epoch 238: ReduceLROnPlateau reducing learning rate to 1.0000000474974514e-05.\n",
            "Optimizing model by reducing: mape for 1000 epochs, model number: 0\n",
            "\n",
            "Epoch 122: ReduceLROnPlateau reducing learning rate to 0.00010000000474974513.\n",
            "\n",
            "Epoch 222: ReduceLROnPlateau reducing learning rate to 1.0000000474974514e-05.\n",
            "Optimizing model by reducing: mae for 1000 epochs, model number: 1\n",
            "\n",
            "Epoch 399: ReduceLROnPlateau reducing learning rate to 0.00010000000474974513.\n",
            "\n",
            "Epoch 589: ReduceLROnPlateau reducing learning rate to 1.0000000474974514e-05.\n",
            "\n",
            "Epoch 689: ReduceLROnPlateau reducing learning rate to 1.0000000656873453e-06.\n",
            "\n",
            "Epoch 789: ReduceLROnPlateau reducing learning rate to 1.0000001111620805e-07.\n",
            "\n",
            "Epoch 889: ReduceLROnPlateau reducing learning rate to 1.000000082740371e-08.\n",
            "\n",
            "Epoch 989: ReduceLROnPlateau reducing learning rate to 1.000000082740371e-09.\n",
            "Optimizing model by reducing: mse for 1000 epochs, model number: 1\n",
            "\n",
            "Epoch 550: ReduceLROnPlateau reducing learning rate to 0.00010000000474974513.\n",
            "\n",
            "Epoch 650: ReduceLROnPlateau reducing learning rate to 1.0000000474974514e-05.\n",
            "\n",
            "Epoch 750: ReduceLROnPlateau reducing learning rate to 1.0000000656873453e-06.\n",
            "\n",
            "Epoch 850: ReduceLROnPlateau reducing learning rate to 1.0000001111620805e-07.\n",
            "\n",
            "Epoch 950: ReduceLROnPlateau reducing learning rate to 1.000000082740371e-08.\n",
            "Optimizing model by reducing: mape for 1000 epochs, model number: 1\n",
            "\n",
            "Epoch 101: ReduceLROnPlateau reducing learning rate to 0.00010000000474974513.\n",
            "\n",
            "Epoch 201: ReduceLROnPlateau reducing learning rate to 1.0000000474974514e-05.\n",
            "Optimizing model by reducing: mae for 1000 epochs, model number: 2\n",
            "\n",
            "Epoch 168: ReduceLROnPlateau reducing learning rate to 0.00010000000474974513.\n",
            "\n",
            "Epoch 718: ReduceLROnPlateau reducing learning rate to 1.0000000474974514e-05.\n",
            "\n",
            "Epoch 880: ReduceLROnPlateau reducing learning rate to 1.0000000656873453e-06.\n",
            "\n",
            "Epoch 980: ReduceLROnPlateau reducing learning rate to 1.0000001111620805e-07.\n",
            "Optimizing model by reducing: mse for 1000 epochs, model number: 2\n",
            "\n",
            "Epoch 129: ReduceLROnPlateau reducing learning rate to 0.00010000000474974513.\n",
            "\n",
            "Epoch 229: ReduceLROnPlateau reducing learning rate to 1.0000000474974514e-05.\n",
            "Optimizing model by reducing: mape for 1000 epochs, model number: 2\n",
            "\n",
            "Epoch 103: ReduceLROnPlateau reducing learning rate to 0.00010000000474974513.\n",
            "\n",
            "Epoch 203: ReduceLROnPlateau reducing learning rate to 1.0000000474974514e-05.\n",
            "Optimizing model by reducing: mae for 1000 epochs, model number: 3\n",
            "\n",
            "Epoch 439: ReduceLROnPlateau reducing learning rate to 0.00010000000474974513.\n",
            "\n",
            "Epoch 539: ReduceLROnPlateau reducing learning rate to 1.0000000474974514e-05.\n",
            "\n",
            "Epoch 639: ReduceLROnPlateau reducing learning rate to 1.0000000656873453e-06.\n",
            "Optimizing model by reducing: mse for 1000 epochs, model number: 3\n",
            "\n",
            "Epoch 836: ReduceLROnPlateau reducing learning rate to 0.00010000000474974513.\n",
            "\n",
            "Epoch 975: ReduceLROnPlateau reducing learning rate to 1.0000000474974514e-05.\n",
            "Optimizing model by reducing: mape for 1000 epochs, model number: 3\n",
            "\n",
            "Epoch 101: ReduceLROnPlateau reducing learning rate to 0.00010000000474974513.\n",
            "\n",
            "Epoch 201: ReduceLROnPlateau reducing learning rate to 1.0000000474974514e-05.\n",
            "Optimizing model by reducing: mae for 1000 epochs, model number: 4\n",
            "\n",
            "Epoch 157: ReduceLROnPlateau reducing learning rate to 0.00010000000474974513.\n",
            "\n",
            "Epoch 257: ReduceLROnPlateau reducing learning rate to 1.0000000474974514e-05.\n",
            "Optimizing model by reducing: mse for 1000 epochs, model number: 4\n",
            "\n",
            "Epoch 634: ReduceLROnPlateau reducing learning rate to 0.00010000000474974513.\n",
            "\n",
            "Epoch 830: ReduceLROnPlateau reducing learning rate to 1.0000000474974514e-05.\n",
            "\n",
            "Epoch 930: ReduceLROnPlateau reducing learning rate to 1.0000000656873453e-06.\n",
            "Optimizing model by reducing: mape for 1000 epochs, model number: 4\n",
            "\n",
            "Epoch 102: ReduceLROnPlateau reducing learning rate to 0.00010000000474974513.\n",
            "\n",
            "Epoch 202: ReduceLROnPlateau reducing learning rate to 1.0000000474974514e-05.\n",
            "CPU times: user 1min 49s, sys: 6.7 s, total: 1min 56s\n",
            "Wall time: 2min 29s\n"
          ]
        }
      ]
    },
    {
      "cell_type": "code",
      "source": [
        "#ensembele_models"
      ],
      "metadata": {
        "id": "H8XzR0tgizFd"
      },
      "execution_count": null,
      "outputs": []
    },
    {
      "cell_type": "code",
      "source": [
        "def make_ensemble_preds(ensemble_models, data):\n",
        "  ensemble_preds = []\n",
        "  for model in ensemble_models:\n",
        "    preds = model.predict(data) # make predictions with current ensemble model\n",
        "    ensemble_preds.append(preds)\n",
        "  return tf.constant(tf.squeeze(ensemble_preds))"
      ],
      "metadata": {
        "id": "22TN74QxqRUh"
      },
      "execution_count": 63,
      "outputs": []
    },
    {
      "cell_type": "code",
      "source": [
        "test_dataset"
      ],
      "metadata": {
        "colab": {
          "base_uri": "https://localhost:8080/"
        },
        "id": "PwZc9cKnClI2",
        "outputId": "7d0b8bf7-83d4-44d5-d9e2-64ca5073655f"
      },
      "execution_count": 64,
      "outputs": [
        {
          "output_type": "execute_result",
          "data": {
            "text/plain": [
              "<_PrefetchDataset element_spec=(TensorSpec(shape=(None, 7), dtype=tf.float64, name=None), TensorSpec(shape=(None,), dtype=tf.float64, name=None))>"
            ]
          },
          "metadata": {},
          "execution_count": 64
        }
      ]
    },
    {
      "cell_type": "code",
      "source": [
        "ensemble_preds = make_ensemble_preds(ensemble_models=ensembele_models,\n",
        "                                     data=test_dataset)\n",
        "ensemble_preds.shape"
      ],
      "metadata": {
        "colab": {
          "base_uri": "https://localhost:8080/"
        },
        "id": "-bc9zb03rNRH",
        "outputId": "1ae8cf74-1a6a-429f-f424-fb52147c0857"
      },
      "execution_count": 65,
      "outputs": [
        {
          "output_type": "stream",
          "name": "stdout",
          "text": [
            "1/1 [==============================] - 0s 33ms/step\n",
            "1/1 [==============================] - 0s 29ms/step\n",
            "1/1 [==============================] - 0s 27ms/step\n",
            "1/1 [==============================] - 0s 26ms/step\n",
            "1/1 [==============================] - 0s 27ms/step\n",
            "1/1 [==============================] - 0s 27ms/step\n",
            "1/1 [==============================] - 0s 29ms/step\n",
            "1/1 [==============================] - 0s 36ms/step\n",
            "1/1 [==============================] - 0s 31ms/step\n",
            "1/1 [==============================] - 0s 33ms/step\n",
            "1/1 [==============================] - 0s 34ms/step\n",
            "1/1 [==============================] - 0s 30ms/step\n",
            "1/1 [==============================] - 0s 32ms/step\n",
            "1/1 [==============================] - 0s 30ms/step\n",
            "1/1 [==============================] - 0s 35ms/step\n"
          ]
        },
        {
          "output_type": "execute_result",
          "data": {
            "text/plain": [
              "TensorShape([15, 97])"
            ]
          },
          "metadata": {},
          "execution_count": 65
        }
      ]
    },
    {
      "cell_type": "code",
      "source": [
        "ensemble_results = evaluate_preds(y_true=Y_test,\n",
        "                                  y_pred=np.median(ensemble_preds, axis=0)) # take the median across all ensemble predictions\n",
        "ensemble_results"
      ],
      "metadata": {
        "colab": {
          "base_uri": "https://localhost:8080/"
        },
        "id": "AT7gpQyRrOtS",
        "outputId": "a8ae326e-c4ec-4e61-ff29-de774cc32b36"
      },
      "execution_count": 66,
      "outputs": [
        {
          "output_type": "execute_result",
          "data": {
            "text/plain": [
              "{'mae': 0.031050868,\n",
              " 'mse': 0.0050919848,\n",
              " 'rmse': 0.071358144,\n",
              " 'mape': 376.4682}"
            ]
          },
          "metadata": {},
          "execution_count": 66
        }
      ]
    },
    {
      "cell_type": "code",
      "source": [
        "def get_upper_lower(preds): # 1. Take the predictions of multiple randomly initialized deep learning neural networks\n",
        "\n",
        "  # 2. Measure the standard deviation of the predictions\n",
        "  std = tf.math.reduce_std(preds, axis=0)\n",
        "\n",
        "  # 3. Multiply the standard deviation by 1.96\n",
        "  interval = 1.96 * std\n",
        "\n",
        "  # 4. Get the prediction interval upper and lower bounds\n",
        "  preds_mean = tf.reduce_mean(preds, axis=0)\n",
        "  lower, upper = preds_mean - interval, preds_mean + interval\n",
        "  return lower, upper\n",
        "\n",
        "# Get the upper and lower bounds of the 95%\n",
        "lower, upper = get_upper_lower(preds=ensemble_preds)"
      ],
      "metadata": {
        "id": "tZ65-tw9sTWx"
      },
      "execution_count": 67,
      "outputs": []
    },
    {
      "cell_type": "code",
      "source": [
        "\n",
        "import matplotlib.pyplot as plt# Get the median values of our ensemble preds\n",
        "ensemble_median = np.median(ensemble_preds, axis=0)\n",
        "\n",
        "# Plot the median of our ensemble preds along with the prediction intervals (where the predictions fall between)\n",
        "offset=0\n",
        "plt.figure(figsize=(10, 7))\n",
        "plt.plot(X_test.index[offset:], Y_test[offset:], \"g\", label=\"Test Data\")\n",
        "plt.plot(X_test.index[offset:], ensemble_median[offset:], \"k-\", label=\"Ensemble Median\")\n",
        "plt.xlabel(\"Date\")\n",
        "plt.ylabel(\"Predictions\")\n",
        "plt.fill_between(X_test.index[offset:],\n",
        "                 (lower)[offset:],\n",
        "                 (upper)[offset:], label=\"Prediction Intervals\")\n",
        "plt.legend(loc=\"upper left\", fontsize=14);"
      ],
      "metadata": {
        "colab": {
          "base_uri": "https://localhost:8080/",
          "height": 619
        },
        "id": "718y_fwct9i7",
        "outputId": "1e3061fe-3033-435f-ce69-bdc0fb543758"
      },
      "execution_count": 68,
      "outputs": [
        {
          "output_type": "display_data",
          "data": {
            "text/plain": [
              "<Figure size 1000x700 with 1 Axes>"
            ],
            "image/png": "[encoded data removed]"
          },
          "metadata": {}
        }
      ]
    },
    {
      "cell_type": "code",
      "source": [],
      "metadata": {
        "id": "cQJmskYhuDHT"
      },
      "execution_count": null,
      "outputs": []
    }
  ]
}